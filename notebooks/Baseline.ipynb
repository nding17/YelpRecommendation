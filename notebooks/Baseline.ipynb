{
 "cells": [
  {
   "cell_type": "code",
   "execution_count": 73,
   "metadata": {
    "colab": {},
    "colab_type": "code",
    "id": "srGK_MILie_y"
   },
   "outputs": [],
   "source": [
    "import pandas as pd\n",
    "import numpy as np\n",
    "import datetime\n",
    "import pyspark\n",
    "from pyspark.sql import SparkSession\n",
    "from pyspark.ml.recommendation import ALS\n",
    "from pyspark.ml.evaluation import RegressionEvaluator\n",
    "from pyspark.mllib.evaluation import RegressionMetrics, RankingMetrics\n",
    "from pyspark.ml.tuning import CrossValidator, ParamGridBuilder\n",
    "import matplotlib.pyplot as plt\n",
    "from surprise.prediction_algorithms.algo_base import AlgoBase\n",
    "from surprise.prediction_algorithms.baseline_only import BaselineOnly \n",
    "from surprise.reader import Reader\n",
    "from surprise.dataset import Dataset\n",
    "from surprise.model_selection.validation import cross_validate\n",
    "from surprise.model_selection.search import GridSearchCV\n",
    "from surprise.model_selection import train_test_split\n",
    "import recmetrics\n",
    "\n",
    "# Item-based CF\n",
    "from surprise import Dataset, Reader\n",
    "from surprise.model_selection.validation import cross_validate\n",
    "from surprise import KNNBaseline, KNNBasic, KNNWithMeans, KNNWithZScore\n",
    "from collections import defaultdict"
   ]
  },
  {
   "cell_type": "markdown",
   "metadata": {},
   "source": [
    "## Read from local path"
   ]
  },
  {
   "cell_type": "code",
   "execution_count": 75,
   "metadata": {},
   "outputs": [],
   "source": [
    "sample_test = pd.read_csv('sample_test.csv')"
   ]
  },
  {
   "cell_type": "code",
   "execution_count": 6,
   "metadata": {},
   "outputs": [],
   "source": [
    "sample_train = pd.read_csv('sample_train.csv')"
   ]
  },
  {
   "cell_type": "code",
   "execution_count": 4,
   "metadata": {},
   "outputs": [],
   "source": [
    "business = pd.read_json('../yelp_dataset/business.json', lines = True)"
   ]
  },
  {
   "cell_type": "code",
   "execution_count": 7,
   "metadata": {
    "colab": {},
    "colab_type": "code",
    "id": "MBWFLNLRv1NF"
   },
   "outputs": [],
   "source": [
    "user_id = pd.DataFrame(sample_train['user_id'].unique(), columns = ['user_id'])\n",
    "user_id.reset_index(inplace = True)\n",
    "user_id = user_id.rename(columns={'index': 'user_idx'})"
   ]
  },
  {
   "cell_type": "code",
   "execution_count": 8,
   "metadata": {
    "colab": {},
    "colab_type": "code",
    "id": "UtLzqjfyvqFw"
   },
   "outputs": [],
   "source": [
    "business_id = pd.DataFrame(business['business_id'].unique(), columns = ['business_id'])\n",
    "business_id.reset_index(inplace = True)\n",
    "business_id = business_id.rename(columns={'index': 'business_idx'})"
   ]
  },
  {
   "cell_type": "code",
   "execution_count": 9,
   "metadata": {
    "colab": {},
    "colab_type": "code",
    "id": "McRuRbMCwvwr"
   },
   "outputs": [],
   "source": [
    "def merge(table1, table2, table3):\n",
    "    temp = pd.merge(table1, table2, how='left')\n",
    "    table = pd.merge(temp, table3, how='left')\n",
    "    return table"
   ]
  },
  {
   "cell_type": "code",
   "execution_count": 186,
   "metadata": {
    "colab": {},
    "colab_type": "code",
    "id": "cyWnv1egxDn-"
   },
   "outputs": [],
   "source": [
    "ntrain = merge(sample_train, user_id, business_id)\n",
    "ntest = merge(sample_test, user_id, business_id)"
   ]
  },
  {
   "cell_type": "code",
   "execution_count": 187,
   "metadata": {
    "colab": {},
    "colab_type": "code",
    "id": "3KH-v9R7xYHJ"
   },
   "outputs": [],
   "source": [
    "baseline_train = ntrain[['user_idx','business_idx','rating']]"
   ]
  },
  {
   "cell_type": "code",
   "execution_count": 188,
   "metadata": {
    "colab": {},
    "colab_type": "code",
    "id": "BfE-Mj9Exc7n"
   },
   "outputs": [],
   "source": [
    "baseline_test = ntest[['user_idx','business_idx','rating']]"
   ]
  },
  {
   "cell_type": "markdown",
   "metadata": {},
   "source": [
    "## Baseline Model"
   ]
  },
  {
   "cell_type": "code",
   "execution_count": 189,
   "metadata": {
    "colab": {},
    "colab_type": "code",
    "id": "mX5oXJ_0k8cs"
   },
   "outputs": [],
   "source": [
    "reader = Reader(rating_scale=(0,5))\n",
    "train = Dataset.load_from_df(ntrain[['user_idx','business_idx','rating']],reader)\n",
    "train = train.build_full_trainset()\n",
    "test = Dataset.load_from_df(ntest[['user_idx','business_idx','rating']],reader)\n",
    "# test = test.build_full_trainset().build_testset()"
   ]
  },
  {
   "cell_type": "code",
   "execution_count": 190,
   "metadata": {
    "colab": {
     "base_uri": "https://localhost:8080/",
     "height": 34
    },
    "colab_type": "code",
    "id": "_OtrveXYqtjm",
    "outputId": "3b42fb96-66b1-497d-a964-78db9dbdccf2"
   },
   "outputs": [
    {
     "name": "stdout",
     "output_type": "stream",
     "text": [
      "Estimating biases using sgd...\n"
     ]
    },
    {
     "data": {
      "text/plain": [
       "<surprise.prediction_algorithms.baseline_only.BaselineOnly at 0x15595b210>"
      ]
     },
     "execution_count": 190,
     "metadata": {},
     "output_type": "execute_result"
    }
   ],
   "source": [
    "bsl_options = {'method':'sgd', 'learning_rate':0.0001}\n",
    "baseline_algo = BaselineOnly(bsl_options=bsl_options)\n",
    "baseline_algo.fit(train)\n",
    "# Baseline = baseline_algo.test(test)"
   ]
  },
  {
   "cell_type": "code",
   "execution_count": 192,
   "metadata": {},
   "outputs": [
    {
     "name": "stderr",
     "output_type": "stream",
     "text": [
      "/Users/chaoyuezheng/opt/anaconda3/lib/python3.7/site-packages/ipykernel_launcher.py:1: SettingWithCopyWarning: \n",
      "A value is trying to be set on a copy of a slice from a DataFrame.\n",
      "Try using .loc[row_indexer,col_indexer] = value instead\n",
      "\n",
      "See the caveats in the documentation: http://pandas.pydata.org/pandas-docs/stable/user_guide/indexing.html#returning-a-view-versus-a-copy\n",
      "  \"\"\"Entry point for launching an IPython kernel.\n"
     ]
    }
   ],
   "source": [
    "baseline_train['Predicted_bias'] = baseline_train.apply(lambda x: baseline_algo.predict(uid = x['user_idx'], iid = x['business_idx'])[3], axis = 1)"
   ]
  },
  {
   "cell_type": "code",
   "execution_count": 196,
   "metadata": {
    "colab": {
     "base_uri": "https://localhost:8080/",
     "height": 119
    },
    "colab_type": "code",
    "id": "8y_lNStQfm2P",
    "outputId": "6cc0fc24-84f7-460a-b1e0-d7139ed8ecaa"
   },
   "outputs": [
    {
     "name": "stderr",
     "output_type": "stream",
     "text": [
      "/Users/chaoyuezheng/opt/anaconda3/lib/python3.7/site-packages/ipykernel_launcher.py:1: SettingWithCopyWarning: \n",
      "A value is trying to be set on a copy of a slice from a DataFrame.\n",
      "Try using .loc[row_indexer,col_indexer] = value instead\n",
      "\n",
      "See the caveats in the documentation: http://pandas.pydata.org/pandas-docs/stable/user_guide/indexing.html#returning-a-view-versus-a-copy\n",
      "  \"\"\"Entry point for launching an IPython kernel.\n"
     ]
    }
   ],
   "source": [
    "baseline_test['Predicted_bias'] = baseline_test.apply(lambda x: baseline_algo.predict(uid = x['user_idx'], iid = x['business_idx'])[3], axis = 1)"
   ]
  },
  {
   "cell_type": "code",
   "execution_count": 198,
   "metadata": {},
   "outputs": [],
   "source": [
    "baseline_all = pd.concat([baseline_test, baseline_train])"
   ]
  },
  {
   "cell_type": "code",
   "execution_count": 65,
   "metadata": {
    "colab": {
     "base_uri": "https://localhost:8080/",
     "height": 34
    },
    "colab_type": "code",
    "id": "9hwew55QIKYi",
    "outputId": "cf14ad1e-86a1-4057-ddd5-c1e3d1c23497"
   },
   "outputs": [
    {
     "name": "stdout",
     "output_type": "stream",
     "text": [
      "RMSE (baseline):  1.356915572415814\n"
     ]
    }
   ],
   "source": [
    "print(\"RMSE (baseline): \", np.sqrt(np.mean( (baseline_test.Predicted_bias - baseline_test.rating)**2) ))"
   ]
  },
  {
   "cell_type": "code",
   "execution_count": 78,
   "metadata": {},
   "outputs": [
    {
     "name": "stdout",
     "output_type": "stream",
     "text": [
      "MAE (baseline):  1.0596398540571268\n"
     ]
    }
   ],
   "source": [
    "print(\"MAE (baseline): \", np.sqrt(np.mean(np.abs(baseline_test.Predicted_bias - baseline_test.rating))))"
   ]
  },
  {
   "cell_type": "code",
   "execution_count": 201,
   "metadata": {},
   "outputs": [],
   "source": [
    "business_idx_bias = list()\n",
    "for i in baseline_test['user_idx'].unique():\n",
    "    business_idx_bias.extend(get_users_predictions(i, 10, baseline_test))"
   ]
  },
  {
   "cell_type": "code",
   "execution_count": 289,
   "metadata": {},
   "outputs": [
    {
     "name": "stdout",
     "output_type": "stream",
     "text": [
      "Coverage (baseline):  0.27569864777849323\n"
     ]
    }
   ],
   "source": [
    "print(\"Coverage (baseline): \", len(set(business_idx_bias))/len(baseline_all['business_idx'].unique()))"
   ]
  },
  {
   "cell_type": "markdown",
   "metadata": {
    "colab_type": "text",
    "id": "Ny3LG8MNJQrB"
   },
   "source": [
    "## Model Based"
   ]
  },
  {
   "cell_type": "code",
   "execution_count": 278,
   "metadata": {
    "colab": {},
    "colab_type": "code",
    "id": "knUkw2MmrNKF"
   },
   "outputs": [],
   "source": [
    "spark = SparkSession.builder.getOrCreate()"
   ]
  },
  {
   "cell_type": "code",
   "execution_count": 279,
   "metadata": {},
   "outputs": [],
   "source": [
    "baseline_train = baseline_train[['business_idx', 'user_idx', 'rating']]\n",
    "baseline_test = baseline_test[['business_idx', 'user_idx', 'rating']]"
   ]
  },
  {
   "cell_type": "code",
   "execution_count": 280,
   "metadata": {
    "colab": {
     "base_uri": "https://localhost:8080/",
     "height": 1000
    },
    "colab_type": "code",
    "id": "v780gTy8JPpA",
    "outputId": "d12894c7-ca30-4072-b48c-b6d0de004910"
   },
   "outputs": [],
   "source": [
    "train_samp = spark.createDataFrame(baseline_train)\n",
    "test_samp = spark.createDataFrame(baseline_test)\n",
    "model = ALS(maxIter=3, regParam = 0.001, userCol='user_idx', \n",
    "            itemCol='business_idx', \n",
    "            ratingCol='rating').fit(train_samp)"
   ]
  },
  {
   "cell_type": "code",
   "execution_count": 282,
   "metadata": {},
   "outputs": [],
   "source": [
    "predictions_test = model.transform(test_samp)\n",
    "df_mb_test = predictions_test.toPandas()\n",
    "predictions_train = model.transform(train_samp)\n",
    "df_mb_train = predictions_train.toPandas()"
   ]
  },
  {
   "cell_type": "code",
   "execution_count": 83,
   "metadata": {
    "colab": {},
    "colab_type": "code",
    "id": "axSueP1Dr8dI"
   },
   "outputs": [
    {
     "name": "stdout",
     "output_type": "stream",
     "text": [
      "Model Based RMSE = 1.3671240046863096\n"
     ]
    }
   ],
   "source": [
    "eval_rmse = RegressionEvaluator(metricName='rmse', labelCol='rating', predictionCol='prediction')\n",
    "result = eval_rmse.evaluate(predictions_test.na.drop())\n",
    "print(f'Model Based RMSE = {result}')"
   ]
  },
  {
   "cell_type": "code",
   "execution_count": 84,
   "metadata": {},
   "outputs": [
    {
     "name": "stdout",
     "output_type": "stream",
     "text": [
      "Model Based MAE = 0.8245764107061594\n"
     ]
    }
   ],
   "source": [
    "eval_mae = RegressionEvaluator(metricName='mae', labelCol='rating', predictionCol='prediction')\n",
    "result = eval_mae.evaluate(predictions_test.na.drop())\n",
    "print(f'Model Based MAE = {result}')"
   ]
  },
  {
   "cell_type": "code",
   "execution_count": 283,
   "metadata": {},
   "outputs": [],
   "source": [
    "df_mb = pd.concat([df_mb_train, df_mb_test])"
   ]
  },
  {
   "cell_type": "code",
   "execution_count": 286,
   "metadata": {},
   "outputs": [],
   "source": [
    "def get_users_predictions(user_id, n, model):\n",
    "    recommended_items = model[model['user_idx'] == user_id][['prediction', 'business_idx']]\n",
    "    recommended_items = recommended_items.sort_values('prediction', ascending=False)    \n",
    "    if len(recommended_items) >= 10:\n",
    "        recommended_items = recommended_items.head(n)        \n",
    "    return recommended_items['business_idx'].tolist()"
   ]
  },
  {
   "cell_type": "code",
   "execution_count": 287,
   "metadata": {},
   "outputs": [],
   "source": [
    "business_idx_mb = list()\n",
    "for i in df_mb['user_idx'].unique():\n",
    "    business_idx_mb.extend(get_users_predictions(i, 10, df_mb))"
   ]
  },
  {
   "cell_type": "code",
   "execution_count": 290,
   "metadata": {},
   "outputs": [
    {
     "name": "stdout",
     "output_type": "stream",
     "text": [
      "Coverage(Model Based): 0.7800386349001932\n"
     ]
    }
   ],
   "source": [
    "print('Coverage(Model Based):', len(set(business_idx_mb))/len(df_mb['business_idx'].unique()))"
   ]
  }
 ],
 "metadata": {
  "accelerator": "TPU",
  "colab": {
   "name": "baseline.ipynb",
   "provenance": []
  },
  "kernelspec": {
   "display_name": "Python 3",
   "language": "python",
   "name": "python3"
  },
  "language_info": {
   "codemirror_mode": {
    "name": "ipython",
    "version": 3
   },
   "file_extension": ".py",
   "mimetype": "text/x-python",
   "name": "python",
   "nbconvert_exporter": "python",
   "pygments_lexer": "ipython3",
   "version": "3.7.4"
  },
  "toc": {
   "base_numbering": 1,
   "nav_menu": {},
   "number_sections": true,
   "sideBar": true,
   "skip_h1_title": false,
   "title_cell": "Table of Contents",
   "title_sidebar": "Contents",
   "toc_cell": false,
   "toc_position": {},
   "toc_section_display": true,
   "toc_window_display": false
  }
 },
 "nbformat": 4,
 "nbformat_minor": 1
}
